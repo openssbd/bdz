{
 "cells": [
  {
   "cell_type": "code",
   "execution_count": 1,
   "id": "012dde8e",
   "metadata": {},
   "outputs": [
    {
     "name": "stderr",
     "output_type": "stream",
     "text": [
      "/home/kyoda/ngff/lib/python3.10/site-packages/anndata/experimental/pytorch/_annloader.py:18: UserWarning: Сould not load pytorch.\n",
      "  warnings.warn(\"Сould not load pytorch.\")\n"
     ]
    }
   ],
   "source": [
    "import pandas as pd\n",
    "import os\n",
    "import glob\n",
    "import anndata as ad\n",
    "from scipy.sparse import csr_matrix\n",
    "import numpy as np\n",
    "from ome_zarr.io import parse_url\n",
    "import zarr\n",
    "from ngff_tables_prototype.writer import write_table_points"
   ]
  },
  {
   "cell_type": "code",
   "execution_count": 2,
   "id": "1a1fafbd",
   "metadata": {},
   "outputs": [
    {
     "name": "stdout",
     "output_type": "stream",
     "text": [
      "   t   pid   cid        x        y        z name  sphericity    volume phase  \\\n",
      "0  1     0  1000  31.2026  11.0956  12.5788   P0    0.837884   76238.3     N   \n",
      "1  2  1000  2000  31.4154  11.5594  12.7917   P0    0.811657   88108.6     N   \n",
      "2  3  2000  3000  32.0421  11.3223  12.5404   P0    0.854491  110026.0     N   \n",
      "3  4  3000  4000  32.5862  11.4526  12.4790   P0    0.771704  107802.0     N   \n",
      "4  5  4000  5000  33.7902  11.7388  11.4331   P0    0.815484  138333.0     N   \n",
      "\n",
      "  entity  \n",
      "0   line  \n",
      "1   line  \n",
      "2   line  \n",
      "3   line  \n",
      "4   line  \n",
      "     t    pid    cid        x        y         z name  sphericity    volume  \\\n",
      "0    1      0   1000  31.2026  11.0956  12.57880   P0    0.837884   76238.3   \n",
      "1    2   1000   2000  31.4154  11.5594  12.79170   P0    0.811657   88108.6   \n",
      "2    3   2000   3000  32.0421  11.3223  12.54040   P0    0.854491  110026.0   \n",
      "3    4   3000   4000  32.5862  11.4526  12.47900   P0    0.771704  107802.0   \n",
      "4    5   4000   5000  33.7902  11.7388  11.43310   P0    0.815484  138333.0   \n",
      "..  ..    ...    ...      ...      ...       ...  ...         ...       ...   \n",
      "60  48  47001  48001  34.0604  14.1797  10.79890   P1    0.846223  225354.0   \n",
      "61  49  48000  49000  31.0141  37.9633   9.83617   AB    0.791786  291136.0   \n",
      "62  49  48001  49001  33.9759  13.9757  10.90170   P1    0.841622  239992.0   \n",
      "63  50  49000  50000  30.5494  38.1028   9.73138   AB    0.753155  302892.0   \n",
      "64  50  49001  50001  35.0010  14.2659  10.84190   P1    0.851056  236775.0   \n",
      "\n",
      "   phase entity  \n",
      "0      N   line  \n",
      "1      N   line  \n",
      "2      N   line  \n",
      "3      N   line  \n",
      "4      N   line  \n",
      "..   ...    ...  \n",
      "60     N   line  \n",
      "61     N   line  \n",
      "62     N   line  \n",
      "63     N   line  \n",
      "64     N   line  \n",
      "\n",
      "[65 rows x 11 columns]\n"
     ]
    }
   ],
   "source": [
    "df = pd.read_csv('wt-N2-081015-01.csv', names=('t', 'pid', 'cid', 'x', 'y', 'z', 'name', 'sphericity', 'volume', 'phase'))\n",
    "df['entity'] = 'line'\n",
    "\n",
    "\n",
    "print(df.head())\n",
    "\n",
    "print(df)"
   ]
  },
  {
   "cell_type": "code",
   "execution_count": 3,
   "id": "a5f6d0e5",
   "metadata": {},
   "outputs": [],
   "source": [
    "n_obs, n_vars = 65, 4\n",
    "nmp = df[[\"t\", \"z\", \"y\", \"x\"]].values\n",
    "Y = nmp\n",
    "X1 = Y / np.array([1, 0.5016, 0.1015, 0.1015])\n",
    "X2 = X1 * np.array([1, -1, 1, 1])\n",
    "X = X2 + np.array([0, 65, 0, 0])\n",
    "\n",
    "dfa = pd.DataFrame(X, columns=list('tzyx'), index=np.arange(n_obs, dtype=int).astype(str))"
   ]
  },
  {
   "cell_type": "code",
   "execution_count": 4,
   "id": "9e44cd5f",
   "metadata": {},
   "outputs": [],
   "source": [
    "obs_raw = df.loc[:,[\"cid\", \"entity\", \"name\", \"sphericity\", \"volume\"]]\n",
    "\n",
    "obs_meta = obs_raw.rename(columns={'cid': 'id'})\n",
    "\n",
    "col = obs_meta.loc[:, 'id']\n",
    "col.transpose()\n",
    "\n",
    "# NB: use int8 to allow viewing in web\n",
    "obsp_raw = np.loadtxt('wt-N2-081015-01-track.csv', delimiter=',', dtype=np.int8)\n",
    "obsp_meta = pd.DataFrame(obsp_raw, index = col.astype(str), columns = col.astype(str))\n"
   ]
  },
  {
   "cell_type": "code",
   "execution_count": 5,
   "id": "c8aea46c",
   "metadata": {},
   "outputs": [
    {
     "name": "stdout",
     "output_type": "stream",
     "text": [
      "id     1000  2000  3000  4000  5000  6000  7000  8000  9000  10000  ...  \\\n",
      "id                                                                  ...   \n",
      "1000      0     1     0     0     0     0     0     0     0      0  ...   \n",
      "2000      0     0     1     0     0     0     0     0     0      0  ...   \n",
      "3000      0     0     0     1     0     0     0     0     0      0  ...   \n",
      "4000      0     0     0     0     1     0     0     0     0      0  ...   \n",
      "5000      0     0     0     0     0     1     0     0     0      0  ...   \n",
      "...     ...   ...   ...   ...   ...   ...   ...   ...   ...    ...  ...   \n",
      "48001     0     0     0     0     0     0     0     0     0      0  ...   \n",
      "49000     0     0     0     0     0     0     0     0     0      0  ...   \n",
      "49001     0     0     0     0     0     0     0     0     0      0  ...   \n",
      "50000     0     0     0     0     0     0     0     0     0      0  ...   \n",
      "50001     0     0     0     0     0     0     0     0     0      0  ...   \n",
      "\n",
      "id     46000  46001  47000  47001  48000  48001  49000  49001  50000  50001  \n",
      "id                                                                           \n",
      "1000       0      0      0      0      0      0      0      0      0      0  \n",
      "2000       0      0      0      0      0      0      0      0      0      0  \n",
      "3000       0      0      0      0      0      0      0      0      0      0  \n",
      "4000       0      0      0      0      0      0      0      0      0      0  \n",
      "5000       0      0      0      0      0      0      0      0      0      0  \n",
      "...      ...    ...    ...    ...    ...    ...    ...    ...    ...    ...  \n",
      "48001      0      0      0      0      0      0      0      1      0      0  \n",
      "49000      0      0      0      0      0      0      0      0      1      0  \n",
      "49001      0      0      0      0      0      0      0      0      0      1  \n",
      "50000      0      0      0      0      0      0      0      0      0      0  \n",
      "50001      0      0      0      0      0      0      0      0      0      0  \n",
      "\n",
      "[65 rows x 65 columns]\n"
     ]
    }
   ],
   "source": [
    "print(obsp_meta)"
   ]
  },
  {
   "cell_type": "code",
   "execution_count": 6,
   "id": "f0cc2090",
   "metadata": {},
   "outputs": [
    {
     "name": "stderr",
     "output_type": "stream",
     "text": [
      "/tmp/ipykernel_10974/2054089064.py:1: FutureWarning: X.dtype being converted to np.float32 from float64. In the next version of anndata (0.9) conversion will not be automatic. Pass dtype explicitly to avoid this warning. Pass `AnnData(X, dtype=X.dtype, ...)` to get the future behavour.\n",
      "  adata = ad.AnnData(X = dfa, obs = obs_meta)\n",
      "/home/kyoda/ngff/lib/python3.10/site-packages/anndata/_core/anndata.py:121: ImplicitModificationWarning: Transforming to str index.\n",
      "  warnings.warn(\"Transforming to str index.\", ImplicitModificationWarning)\n"
     ]
    }
   ],
   "source": [
    "adata = ad.AnnData(X = dfa, obs = obs_meta)"
   ]
  },
  {
   "cell_type": "code",
   "execution_count": 7,
   "id": "fba1b973",
   "metadata": {},
   "outputs": [],
   "source": [
    "# write as sparse data to obsp\n",
    "adata.obsp[\"tracking\"] = csr_matrix(obsp_raw)"
   ]
  },
  {
   "cell_type": "code",
   "execution_count": 8,
   "id": "cc8751fd",
   "metadata": {},
   "outputs": [
    {
     "name": "stderr",
     "output_type": "stream",
     "text": [
      "/home/kyoda/ngff/lib/python3.10/site-packages/zarr/creation.py:250: UserWarning: ignoring keyword argument 'maxshape'\n",
      "  warn('ignoring keyword argument %r' % k)\n"
     ]
    }
   ],
   "source": [
    "store = parse_url(\"wt-N2-081015-01.ome.zarr\", mode=\"w\").store\n",
    "root = zarr.group(store=store)\n",
    "\n",
    "tables_group = root.create_group(name=\"tables\")\n",
    "write_table_points(\n",
    "    group=tables_group,\n",
    "    adata=adata\n",
    ")"
   ]
  },
  {
   "cell_type": "code",
   "execution_count": null,
   "id": "7d11d5a9",
   "metadata": {},
   "outputs": [],
   "source": []
  }
 ],
 "metadata": {
  "kernelspec": {
   "display_name": "Python 3 (ipykernel)",
   "language": "python",
   "name": "python3"
  },
  "language_info": {
   "codemirror_mode": {
    "name": "ipython",
    "version": 3
   },
   "file_extension": ".py",
   "mimetype": "text/x-python",
   "name": "python",
   "nbconvert_exporter": "python",
   "pygments_lexer": "ipython3",
   "version": "3.10.6"
  }
 },
 "nbformat": 4,
 "nbformat_minor": 5
}

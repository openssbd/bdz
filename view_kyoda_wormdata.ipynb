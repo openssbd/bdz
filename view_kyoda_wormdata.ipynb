{
 "cells": [
  {
   "cell_type": "code",
   "execution_count": 1,
   "id": "6b7ecbc2",
   "metadata": {},
   "outputs": [],
   "source": [
    "import os\n",
    "import zarr\n",
    "import numpy as np\n",
    "from anndata import AnnData\n",
    "from anndata._io import read_zarr\n",
    "from ome_zarr.io import parse_url\n",
    "from ome_zarr.reader import Reader\n",
    "import napari\n",
    "from napari_ome_zarr._reader import transform\n",
    "from napari.types import LayerDataTuple"
   ]
  },
  {
   "cell_type": "code",
   "execution_count": 2,
   "id": "7e3b6c79",
   "metadata": {},
   "outputs": [],
   "source": [
    "from ngff_tables_prototype.reader import load_table_to_anndata, get_napari_points_layer_data"
   ]
  },
  {
   "cell_type": "code",
   "execution_count": 3,
   "id": "8d7fd74b",
   "metadata": {},
   "outputs": [],
   "source": [
    "def check_div(tracks_matrix, n):\n",
    "    next = 0\n",
    "    for i in range(len(tracks_matrix[n])):\n",
    "            if tracks_matrix[n][i] == 1:\n",
    "                next += 1\n",
    "    return next\n",
    "\n",
    "def track_obj(tracks_matrix, m, points_coords, tracks, tid):\n",
    "    if check_div(tracks_matrix, m) == 1:\n",
    "        tracks = np.append(tracks, np.insert(points_coords[m], 0, tid))\n",
    "        for i in range(len(tracks_matrix[m])):\n",
    "            if tracks_matrix[m][i] == 1:\n",
    "                tracks_matrix[m][i] = 2\n",
    "                tracks = track_obj(tracks_matrix, i, points_coords, tracks, tid)\n",
    "        return tracks\n",
    "    else:\n",
    "        return tracks\n",
    "                \n",
    "def _anndata_to_napari_tracks(anndata_obj: AnnData) -> LayerDataTuple:\n",
    "    points_coords = anndata_obj.X\n",
    "    tracks_csrmatrix = anndata_obj.obsp[\"tracking\"]\n",
    "    tracks = np.empty((0, 5))\n",
    "    \n",
    "    tracks_matrix = np.asarray(tracks_csrmatrix.todense())\n",
    "\n",
    "    tid = 0\n",
    "    for i in range(len(tracks_matrix)):\n",
    "        for j in range(len(tracks_matrix[i])):\n",
    "            if tracks_matrix[i][j] == 1:\n",
    "                tracks = np.append(tracks, np.insert(points_coords[i], 0, tid))\n",
    "                tracks = track_obj(tracks_matrix, j, points_coords, tracks, tid)\n",
    "                tid += 1\n",
    "\n",
    "    t = tracks.reshape([tracks.size // 5, 5])\n",
    "\n",
    "    return t, \"\", 'tracks'\n",
    "\n",
    "\n",
    "def load_to_napari_layer_bdz(file_path: str):\n",
    "    ome_zarr = parse_url(file_path)\n",
    "    reader = Reader(ome_zarr)\n",
    "    reader_func = transform(reader())\n",
    "    layer_data = reader_func(file_path)\n",
    "\n",
    "    TABLES_DIR = \"tables\"\n",
    "    table_group = zarr.group(store=ome_zarr.store, path=TABLES_DIR)\n",
    "    table_attrs = table_group.attrs.asdict()\n",
    "    print(\"table_attrs\", table_attrs)\n",
    "\n",
    "    # assume just one table...\n",
    "#    table_name = table_attrs[\"tables\"][0]\n",
    "    table_name = \"points_table\"\n",
    "    table_path = os.path.join(TABLES_DIR, table_name)\n",
    "    print(\"loading points data from \", table_path)\n",
    "\n",
    "    # load points points\n",
    "    points_layer = get_napari_points_layer_data(file_path, table_path)\n",
    "    layer_data.append(points_layer)\n",
    "\n",
    "    # load tracking info. (added)\n",
    "    anndata_obj = load_table_to_anndata(file_path, table_path)\n",
    "    layer_data.append(_anndata_to_napari_tracks(anndata_obj))\n",
    "    \n",
    "    return layer_data\n",
    "\n",
    "def load_to_napari_viewer_bdz(file_path: str) -> napari.Viewer:\n",
    "    layer_data = load_to_napari_layer_bdz(file_path)\n",
    "\n",
    "    viewer = napari.Viewer()\n",
    "\n",
    "    for layer in layer_data:\n",
    "        viewer._add_layer_from_data(*layer)\n",
    "    return viewer"
   ]
  },
  {
   "cell_type": "code",
   "execution_count": 4,
   "id": "566294bb",
   "metadata": {},
   "outputs": [
    {
     "name": "stderr",
     "output_type": "stream",
     "text": [
      "WARNING: Warning: Ignoring XDG_SESSION_TYPE=wayland on Gnome. Use QT_QPA_PLATFORM=wayland to run on Wayland anyway.\n"
     ]
    },
    {
     "name": "stdout",
     "output_type": "stream",
     "text": [
      "table_attrs {}\n",
      "loading points data from  tables/points_table\n"
     ]
    }
   ],
   "source": [
    "viewer = load_to_napari_viewer_bdz(file_path='wt-N2-081015-01.ome.zarr')\n",
    "napari.run()"
   ]
  },
  {
   "cell_type": "code",
   "execution_count": null,
   "id": "05f22f88",
   "metadata": {},
   "outputs": [],
   "source": []
  }
 ],
 "metadata": {
  "kernelspec": {
   "display_name": "Python 3 (ipykernel)",
   "language": "python",
   "name": "python3"
  },
  "language_info": {
   "codemirror_mode": {
    "name": "ipython",
    "version": 3
   },
   "file_extension": ".py",
   "mimetype": "text/x-python",
   "name": "python",
   "nbconvert_exporter": "python",
   "pygments_lexer": "ipython3",
   "version": "3.10.6"
  }
 },
 "nbformat": 4,
 "nbformat_minor": 5
}

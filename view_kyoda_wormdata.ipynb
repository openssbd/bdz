{
 "cells": [
  {
   "cell_type": "code",
   "execution_count": 1,
   "id": "0bf427c6",
   "metadata": {},
   "outputs": [],
   "source": [
    "import os\n",
    "import numpy as np\n",
    "from anndata import AnnData\n",
    "from anndata._io import read_zarr\n",
    "from ome_zarr.io import parse_url\n",
    "from ome_zarr.reader import Reader\n",
    "import napari\n",
    "from napari_ome_zarr._reader import transform\n",
    "from napari.types import LayerDataTuple\n",
    "\n",
    "from ngff_tables_prototype.reader import load_points_to_anndata, _anndata_to_napari_points, load_to_napari_viewer"
   ]
  },
  {
   "cell_type": "code",
   "execution_count": 2,
   "id": "d7aead44",
   "metadata": {},
   "outputs": [],
   "source": [
    "# for the conversion from tracking data matrix to napari tracks format\n",
    "\n",
    "def check_div(tracks_matrix, n):\n",
    "    next = 0\n",
    "    for i in range(len(tracks_matrix[n])):\n",
    "            if tracks_matrix[n][i] == 1:\n",
    "                next += 1\n",
    "    return next\n",
    "\n",
    "def track_obj(tracks_matrix, m, points_coords, tracks, tid):\n",
    "    if check_div(tracks_matrix, m) == 1:\n",
    "        tracks = np.append(tracks, np.insert(points_coords[m], 0, tid))\n",
    "        for i in range(len(tracks_matrix[m])):\n",
    "            if tracks_matrix[m][i] == 1:\n",
    "                tracks_matrix[m][i] = 2\n",
    "                tracks = track_obj(tracks_matrix, i, points_coords, tracks, tid)\n",
    "        return tracks\n",
    "    else:\n",
    "        return tracks\n",
    "                \n",
    "def _anndata_to_napari_tracks(anndata_obj: AnnData) -> LayerDataTuple:\n",
    "    points_coords = anndata_obj.X\n",
    "    tracks_matrix = anndata_obj.obsp[\"tracking\"]\n",
    "    tracks = np.empty((0, 5))\n",
    "    \n",
    "    tid = 0\n",
    "    for i in range(len(tracks_matrix)):\n",
    "        for j in range(len(tracks_matrix[i])):\n",
    "            if tracks_matrix[i][j] == 1:\n",
    "                tracks = np.append(tracks, np.insert(points_coords[i], 0, tid))\n",
    "                tracks = track_obj(tracks_matrix, j, points_coords, tracks, tid)\n",
    "                tid += 1\n",
    "\n",
    "    t = tracks.reshape([tracks.size // 5, 5])\n",
    "\n",
    "    return t, \"\", 'tracks'"
   ]
  },
  {
   "cell_type": "code",
   "execution_count": 3,
   "id": "82d1eff3",
   "metadata": {},
   "outputs": [],
   "source": [
    "# copied from https://github.com/kevinyamauchi/ome-ngff-tables-prototype/blob/main/src/ngff_tables_prototype/reader.py\n",
    "\n",
    "def load_to_napari_layer_bdz(file_path: str, points_group: str):\n",
    "    ome_zarr = parse_url(file_path)\n",
    "    reader = Reader(ome_zarr)\n",
    "    reader_func = transform(reader())\n",
    "    layer_data = reader_func(file_path)\n",
    "\n",
    "    # load points points\n",
    "    anndata_obj = load_points_to_anndata(file_path, points_group)\n",
    "    layer_data.append(_anndata_to_napari_points(anndata_obj))\n",
    "\n",
    "    # load tracking info. (added)\n",
    "    layer_data.append(_anndata_to_napari_tracks(anndata_obj))\n",
    "    \n",
    "    return layer_data\n",
    "\n",
    "def load_to_napari_viewer_bdz(file_path: str, points_group: str) -> napari.Viewer:\n",
    "    layer_data = load_to_napari_layer_bdz(file_path, points_group)\n",
    "\n",
    "    viewer = napari.Viewer()\n",
    "\n",
    "    for layer in layer_data:\n",
    "        viewer._add_layer_from_data(*layer)\n",
    "    return viewer"
   ]
  },
  {
   "cell_type": "code",
   "execution_count": 4,
   "id": "71fb8e1f",
   "metadata": {},
   "outputs": [
    {
     "name": "stderr",
     "output_type": "stream",
     "text": [
      "version mismatch: detected:FormatV02, requested:FormatV04\n",
      "version mismatch: detected:FormatV04, requested:FormatV02\n",
      "version mismatch: detected:FormatV02, requested:FormatV04\n",
      "version mismatch: detected:FormatV04, requested:FormatV02\n",
      "/usr/local/lib/python3.9/site-packages/napari/_qt/qt_resources/_icons.py:350: UserWarning: Unable to save qt-resources: [Errno 13] Permission denied: '/usr/local/lib/python3.9/site-packages/napari/_qt/qt_resources/_qt_resources_PyQt5_5_15_2_d12ed21803a677a6c4be7449d5c830ba.py'\n",
      "  warnings.warn(msg)\n"
     ]
    }
   ],
   "source": [
    "viewer = load_to_napari_viewer_bdz(file_path='wt-N2-081015-01.ome.zarr', points_group='dyn')\n",
    "napari.run()"
   ]
  },
  {
   "cell_type": "code",
   "execution_count": null,
   "id": "35349d47",
   "metadata": {},
   "outputs": [],
   "source": []
  }
 ],
 "metadata": {
  "kernelspec": {
   "display_name": "Python 3",
   "language": "python",
   "name": "python3"
  },
  "language_info": {
   "codemirror_mode": {
    "name": "ipython",
    "version": 3
   },
   "file_extension": ".py",
   "mimetype": "text/x-python",
   "name": "python",
   "nbconvert_exporter": "python",
   "pygments_lexer": "ipython3",
   "version": "3.9.6"
  }
 },
 "nbformat": 4,
 "nbformat_minor": 5
}

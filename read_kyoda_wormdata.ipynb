{
 "cells": [
  {
   "cell_type": "code",
   "execution_count": 1,
   "metadata": {},
   "outputs": [],
   "source": [
    "import os\n",
    "import numpy as np\n",
    "from anndata import AnnData\n",
    "from anndata._io import read_zarr\n",
    "\n",
    "adata = read_zarr(os.path.join('./', 'dyn'))"
   ]
  },
  {
   "cell_type": "code",
   "execution_count": 2,
   "metadata": {},
   "outputs": [
    {
     "data": {
      "text/plain": [
       "AnnData object with n_obs × n_vars = 1063 × 4\n",
       "    obs: 'id', 'entity', 'name', 'sphericity', 'volume'\n",
       "    obsp: 'tracking'"
      ]
     },
     "execution_count": 2,
     "metadata": {},
     "output_type": "execute_result"
    }
   ],
   "source": [
    "adata"
   ]
  },
  {
   "cell_type": "code",
   "execution_count": 3,
   "metadata": {},
   "outputs": [
    {
     "name": "stdout",
     "output_type": "stream",
     "text": [
      "[[  1.        39.92265  109.31625  307.41476 ]\n",
      " [  2.        39.498207 113.88571  309.51132 ]\n",
      " [  3.        39.999203 111.54975  315.6857  ]\n",
      " ...\n",
      " [185.        34.404903 215.28473  374.96848 ]\n",
      " [185.        25.4065   440.82266  323.11725 ]\n",
      " [185.        24.852272 299.201    300.62167 ]]\n"
     ]
    }
   ],
   "source": [
    "coords = adata.X\n",
    "print(coords)"
   ]
  },
  {
   "cell_type": "code",
   "execution_count": 4,
   "metadata": {},
   "outputs": [
    {
     "name": "stdout",
     "output_type": "stream",
     "text": [
      "          id entity   name  sphericity    volume\n",
      "0       1000   line     P0    0.837884   76238.3\n",
      "1       2000   line     P0    0.811657   88108.6\n",
      "2       3000   line     P0    0.854491  110026.0\n",
      "3       4000   line     P0    0.771704  107802.0\n",
      "4       5000   line     P0    0.815484  138333.0\n",
      "...      ...    ...    ...         ...       ...\n",
      "1058  185010   line     Cp    0.657980   26864.0\n",
      "1059  185011   line  ABala    0.562700   24160.8\n",
      "1060  185012   line  ABprp    0.738705  140320.0\n",
      "1061  185013   line  ABara    0.730234   95857.5\n",
      "1062  185014   line  ABpra    0.671709  160176.0\n",
      "\n",
      "[1063 rows x 5 columns]\n"
     ]
    }
   ],
   "source": [
    "features = adata.obs\n",
    "print(features)"
   ]
  },
  {
   "cell_type": "code",
   "execution_count": 5,
   "metadata": {},
   "outputs": [
    {
     "name": "stdout",
     "output_type": "stream",
     "text": [
      "[[0 1 0 ... 0 0 0]\n",
      " [0 0 1 ... 0 0 0]\n",
      " [0 0 0 ... 0 0 0]\n",
      " ...\n",
      " [0 0 0 ... 0 0 0]\n",
      " [0 0 0 ... 0 0 0]\n",
      " [0 0 0 ... 0 0 0]]\n"
     ]
    }
   ],
   "source": [
    "tracks = adata.obsp[\"tracking\"]\n",
    "print(tracks)"
   ]
  },
  {
   "cell_type": "code",
   "execution_count": null,
   "metadata": {},
   "outputs": [],
   "source": []
  }
 ],
 "metadata": {
  "kernelspec": {
   "display_name": "Python 3",
   "language": "python",
   "name": "python3"
  },
  "language_info": {
   "codemirror_mode": {
    "name": "ipython",
    "version": 3
   },
   "file_extension": ".py",
   "mimetype": "text/x-python",
   "name": "python",
   "nbconvert_exporter": "python",
   "pygments_lexer": "ipython3",
   "version": "3.7.10"
  }
 },
 "nbformat": 4,
 "nbformat_minor": 2
}
